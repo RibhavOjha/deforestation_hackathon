{
  "nbformat": 4,
  "nbformat_minor": 0,
  "metadata": {
    "colab": {
      "provenance": []
    },
    "kernelspec": {
      "name": "python3",
      "display_name": "Python 3"
    },
    "language_info": {
      "name": "python"
    }
  },
  "cells": [
    {
      "cell_type": "code",
      "execution_count": 31,
      "metadata": {
        "colab": {
          "base_uri": "https://localhost:8080/"
        },
        "id": "sYiXOnxRHwRR",
        "outputId": "460bc705-9e14-4237-c447-2b28ebc18410"
      },
      "outputs": [
        {
          "output_type": "stream",
          "name": "stdout",
          "text": [
            "Predicted forest area for 2023: 2.345949254\n"
          ]
        },
        {
          "output_type": "stream",
          "name": "stderr",
          "text": [
            "/usr/local/lib/python3.10/dist-packages/sklearn/base.py:439: UserWarning: X does not have valid feature names, but LinearRegression was fitted with feature names\n",
            "  warnings.warn(\n"
          ]
        }
      ],
      "source": [
        "import pandas as pd\n",
        "from sklearn.model_selection import train_test_split\n",
        "\n",
        "from sklearn.linear_model import LinearRegression\n",
        "from sklearn.metrics import mean_absolute_error, mean_squared_error, r2_score\n",
        "\n",
        "# Load data from Excel\n",
        "df = pd.read_csv('sorted_forest_percentage.csv')\n",
        "\n",
        "\n",
        "\n",
        "X = df[[\"year\"]][1:1]  # Features\n",
        "y = df[\"forest_area_percentage\"][1:10]  # Target variable\n",
        "\n",
        "\n",
        "X_train, X_test, y_train, y_test = train_test_split(X, y, test_size=0.2, random_state=42)\n",
        "\n",
        "\n",
        "# Create the linear regression model\n",
        "model = LinearRegression()\n",
        "\n",
        "\n",
        "# Train the model using the training data\n",
        "model.fit(X_train, y_train)\n",
        "\n",
        "\n",
        "# Predict forest area for a future year\n",
        "future_year = 2023  # You can change this to your desired year\n",
        "future_forest_area = model.predict([[future_year]])\n",
        "print(f\"Predicted forest area for {future_year}: {future_forest_area[0]}\")\n",
        "\n",
        "\n",
        "y_pred = model.predict(X_test)\n",
        "\n",
        "\n",
        "\n",
        "# import matplotlib.pyplot as plt\n",
        "\n",
        "\n",
        "# # Assuming you already have the model and X_encoded\n",
        "\n",
        "# # Predict FTE_Staff\n",
        "# y_pred = model.predict(X_top_10)\n",
        "\n",
        "# # Create a scatter plot\n",
        "# plt.figure(figsize=(10, 6))\n",
        "# plt.scatter(X_top_10, y_top_10, alpha=0.5)\n",
        "# # plt.plot(X_top_10, slope * X_top_10 + intercept, color='red', label='Regression Line')\n",
        "# plt.title('Year vs. Forest Area')\n",
        "# plt.xlabel('Year')\n",
        "# plt.ylabel('Forest Area')\n",
        "# plt.show()"
      ]
    }
  ]
}